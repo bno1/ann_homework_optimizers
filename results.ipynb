{
 "cells": [
  {
   "cell_type": "code",
   "execution_count": null,
   "metadata": {},
   "outputs": [],
   "source": [
    "%matplotlib notebook\n",
    "\n",
    "import numpy as np\n",
    "\n",
    "from optimizers import *\n",
    "from test_functions import *\n",
    "from graphing import *"
   ]
  },
  {
   "cell_type": "code",
   "execution_count": null,
   "metadata": {
    "scrolled": false
   },
   "outputs": [],
   "source": [
    "optimizers = [\n",
    "    Optimizer(\"NesterovMomentum\", NesterovMomentum, rosenbrock, np.array((0.8, 0.8))),\n",
    "    Optimizer(\"RMSProp\", RMSProp, rosenbrock, np.array((0.8, 0.8))),\n",
    "    Optimizer(\"Adam\", Adam, rosenbrock, np.array((0.8, 0.8))),\n",
    "]\n",
    "\n",
    "plot(rosenbrock, np.linspace(-1, 1, 50), np.linspace(-1, 1, 50), optimizers, frames=50, levels=100)"
   ]
  },
  {
   "cell_type": "code",
   "execution_count": null,
   "metadata": {},
   "outputs": [],
   "source": []
  },
  {
   "cell_type": "code",
   "execution_count": null,
   "metadata": {},
   "outputs": [],
   "source": []
  }
 ],
 "metadata": {
  "kernelspec": {
   "display_name": "Python 3",
   "language": "python",
   "name": "python3"
  },
  "language_info": {
   "codemirror_mode": {
    "name": "ipython",
    "version": 3
   },
   "file_extension": ".py",
   "mimetype": "text/x-python",
   "name": "python",
   "nbconvert_exporter": "python",
   "pygments_lexer": "ipython3",
   "version": "3.7.0"
  }
 },
 "nbformat": 4,
 "nbformat_minor": 2
}
