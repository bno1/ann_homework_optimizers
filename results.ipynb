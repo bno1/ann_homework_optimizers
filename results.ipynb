{
 "cells": [
  {
   "cell_type": "code",
   "execution_count": null,
   "metadata": {},
   "outputs": [],
   "source": [
    "%matplotlib notebook\n",
    "\n",
    "import numpy as np\n",
    "\n",
    "from optimizers import *\n",
    "from test_functions import *\n",
    "from graphing import *"
   ]
  },
  {
   "cell_type": "code",
   "execution_count": null,
   "metadata": {
    "scrolled": false
   },
   "outputs": [],
   "source": [
    "function = rosenbrock\n",
    "start = np.array((0.0, 0.0))\n",
    "x_range = (-1, 1, 50)\n",
    "y_range = (-1, 1, 50)\n",
    "frames = 5000\n",
    "levels = 100\n",
    "\n",
    "optimizers = [\n",
    "    Optimizer(\"NesterovMomentum\", NesterovMomentum, function, start, miu=0.4),\n",
    "    Optimizer(\"RMSProp\", RMSProp, function, start, lr=0.02),\n",
    "    Optimizer(\"Adam\", Adam, function, start, lr=0.02, beta1=0.9, beta2=0.999),\n",
    "]\n",
    "\n",
    "plot(function, np.linspace(*x_range), np.linspace(*y_range), optimizers, frames=frames, levels=levels)"
   ]
  },
  {
   "cell_type": "code",
   "execution_count": null,
   "metadata": {},
   "outputs": [],
   "source": []
  },
  {
   "cell_type": "code",
   "execution_count": null,
   "metadata": {},
   "outputs": [],
   "source": []
  }
 ],
 "metadata": {
  "kernelspec": {
   "display_name": "Python 3",
   "language": "python",
   "name": "python3"
  },
  "language_info": {
   "codemirror_mode": {
    "name": "ipython",
    "version": 3
   },
   "file_extension": ".py",
   "mimetype": "text/x-python",
   "name": "python",
   "nbconvert_exporter": "python",
   "pygments_lexer": "ipython3",
   "version": "3.7.0"
  }
 },
 "nbformat": 4,
 "nbformat_minor": 2
}
