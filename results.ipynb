{
 "cells": [
  {
   "cell_type": "code",
   "execution_count": null,
   "metadata": {},
   "outputs": [],
   "source": [
    "%matplotlib notebook\n",
    "\n",
    "import numpy as np\n",
    "\n",
    "from optimizers import *\n",
    "from test_functions import *\n",
    "from graphing import *"
   ]
  },
  {
   "cell_type": "code",
   "execution_count": null,
   "metadata": {
    "scrolled": false
   },
   "outputs": [],
   "source": [
    "function = saddle\n",
    "start = np.array((2.0, 0.001))\n",
    "x_range = (-5, 5, 50)\n",
    "y_range = (-5, 5, 50)\n",
    "frames = 60\n",
    "levels = 100\n",
    "steps_per_frame=5\n",
    "\n",
    "\n",
    "optimizers = [\n",
    "    Optimizer(\"SGD\", SGD, function, start, lr=0.01),\n",
    "    Optimizer(\"NesterovMomentum\", NesterovMomentum, function, start, lr=0.01, miu=0.4),\n",
    "    Optimizer(\"AdaGrad\", AdaGrad, function, start, lr=0.01),\n",
    "    Optimizer(\"RMSProp\", RMSProp, function, start, lr=0.01, beta=0.1),\n",
    "    Optimizer(\"Adam\", Adam, function, start, lr=0.01, beta1=0.9, beta2=0.999),\n",
    "]\n",
    "\n",
    "\n",
    "plot(function, np.linspace(*x_range), np.linspace(*y_range), optimizers, frames=frames, levels=levels, steps_per_frame=steps_per_frame)"
   ]
  },
  {
   "cell_type": "code",
   "execution_count": null,
   "metadata": {
    "scrolled": false
   },
   "outputs": [],
   "source": [
    "function = sphere\n",
    "start = np.array((4.0, 4.0))\n",
    "x_range = (-5, 5, 50)\n",
    "y_range = (-5, 5, 50)\n",
    "frames = 60\n",
    "levels = 100\n",
    "steps_per_frame=10\n",
    "\n",
    "optimizers = [\n",
    "    Optimizer(\"SGD\", SGD, function, start, lr=0.01),\n",
    "    Optimizer(\"NesterovMomentum\", NesterovMomentum, function, start, lr=0.01, miu=0.4),\n",
    "    Optimizer(\"AdaGrad\", AdaGrad, function, start, lr=0.01),\n",
    "    Optimizer(\"RMSProp\", RMSProp, function, start, lr=0.01, beta=0.1),\n",
    "    Optimizer(\"Adam\", Adam, function, start, lr=0.01, beta1=0.9, beta2=0.999),\n",
    "]\n",
    "\n",
    "plot(function, np.linspace(*x_range), np.linspace(*y_range), optimizers, frames=frames, levels=levels, steps_per_frame=steps_per_frame)"
   ]
  },
  {
   "cell_type": "code",
   "execution_count": null,
   "metadata": {
    "scrolled": false
   },
   "outputs": [],
   "source": [
    "function = rosenbrock\n",
    "start = np.array((0.0, 0.0))\n",
    "x_range = (-1.5, 1.5, 50)\n",
    "y_range = (-0.5, 1.5, 50)\n",
    "frames = 60\n",
    "levels = 100\n",
    "steps_per_frame=10\n",
    "\n",
    "\n",
    "optimizers = [\n",
    "    Optimizer(\"SGD\", SGD, function, start, lr=0.01),\n",
    "    Optimizer(\"NesterovMomentum\", NesterovMomentum, function, start, lr=0.01, miu=0.4),\n",
    "    Optimizer(\"AdaGrad\", AdaGrad, function, start, lr=0.01),\n",
    "    Optimizer(\"RMSProp\", RMSProp, function, start, lr=0.01, beta=0.1),\n",
    "    Optimizer(\"Adam\", Adam, function, start, lr=0.01, beta1=0.9, beta2=0.999),\n",
    "]\n",
    "\n",
    "plot(function, np.linspace(*x_range), np.linspace(*y_range), optimizers, frames=frames, levels=levels, steps_per_frame=steps_per_frame)"
   ]
  },
  {
   "cell_type": "code",
   "execution_count": null,
   "metadata": {
    "scrolled": false
   },
   "outputs": [],
   "source": [
    "function = rastrigin\n",
    "start = np.array((0.6, 0.5))\n",
    "x_range = (-2, 2, 50)\n",
    "y_range = (-2, 2, 50)\n",
    "frames = 60\n",
    "levels = 100\n",
    "steps_per_frame=1\n",
    "\n",
    "\n",
    "optimizers = [\n",
    "    Optimizer(\"SGD\", SGD, function, start, lr=0.01),\n",
    "    Optimizer(\"NesterovMomentum\", NesterovMomentum, function, start, lr=0.01, miu=0.4),\n",
    "    Optimizer(\"AdaGrad\", AdaGrad, function, start, lr=0.01),\n",
    "    Optimizer(\"RMSProp\", RMSProp, function, start, lr=0.01, beta=0.1),\n",
    "    Optimizer(\"Adam\", Adam, function, start, lr=0.01, beta1=0.9, beta2=0.999),\n",
    "]\n",
    "\n",
    "\n",
    "plot(function, np.linspace(*x_range), np.linspace(*y_range), optimizers, frames=frames, levels=levels, steps_per_frame=steps_per_frame)"
   ]
  },
  {
   "cell_type": "code",
   "execution_count": null,
   "metadata": {
    "scrolled": false
   },
   "outputs": [],
   "source": [
    "function = griewank\n",
    "start = np.array((3, 0))\n",
    "x_range = (-5, 5, 50)\n",
    "y_range = (-5, 5, 50)\n",
    "frames = 60\n",
    "levels = 100\n",
    "steps_per_frame=10\n",
    "\n",
    "\n",
    "optimizers = [\n",
    "    Optimizer(\"SGD\", SGD, function, start, lr=0.01),\n",
    "    Optimizer(\"NesterovMomentum\", NesterovMomentum, function, start, lr=0.01, miu=0.4),\n",
    "    Optimizer(\"AdaGrad\", AdaGrad, function, start, lr=0.01),\n",
    "    Optimizer(\"RMSProp\", RMSProp, function, start, lr=0.01, beta=0.1),\n",
    "    Optimizer(\"Adam\", Adam, function, start, lr=0.01, beta1=0.9, beta2=0.999),\n",
    "]\n",
    "\n",
    "\n",
    "plot(function, np.linspace(*x_range), np.linspace(*y_range), optimizers, frames=frames, levels=levels, steps_per_frame=steps_per_frame)"
   ]
  },
  {
   "cell_type": "code",
   "execution_count": null,
   "metadata": {},
   "outputs": [],
   "source": [
    "function = monkey_saddle\n",
    "start = np.array((2.0, 2.0))\n",
    "x_range = (-5, 5, 50)\n",
    "y_range = (-5, 5, 50)\n",
    "frames = 60\n",
    "levels = 100\n",
    "steps_per_frame=10\n",
    "\n",
    "optimizers = [\n",
    "    Optimizer(\"SGD\", SGD, function, start, lr=0.01),\n",
    "    Optimizer(\"NesterovMomentum\", NesterovMomentum, function, start, lr=0.01, miu=0.4),\n",
    "    Optimizer(\"AdaGrad\", AdaGrad, function, start, lr=0.01),\n",
    "    Optimizer(\"RMSProp\", RMSProp, function, start, lr=0.01, beta=0.1),\n",
    "    Optimizer(\"Adam\", Adam, function, start, lr=0.01, beta1=0.9, beta2=0.999),\n",
    "]\n",
    "\n",
    "plot(function, np.linspace(*x_range), np.linspace(*y_range), optimizers, frames=frames, levels=levels, steps_per_frame=steps_per_frame)"
   ]
  },
  {
   "cell_type": "code",
   "execution_count": null,
   "metadata": {},
   "outputs": [],
   "source": [
    "function = hyperbolic_paraboloid\n",
    "start = np.array((0.1, 0.1))\n",
    "x_range = (-5, 5, 50)\n",
    "y_range = (-5, 5, 50)\n",
    "frames = 60\n",
    "levels = 100\n",
    "steps_per_frame=10\n",
    "\n",
    "optimizers = [\n",
    "    Optimizer(\"SGD\", SGD, function, start, lr=0.01),\n",
    "    Optimizer(\"NesterovMomentum\", NesterovMomentum, function, start, lr=0.01, miu=0.4),\n",
    "    Optimizer(\"AdaGrad\", AdaGrad, function, start, lr=0.01),\n",
    "    Optimizer(\"RMSProp\", RMSProp, function, start, lr=0.01, beta=0.1),\n",
    "    Optimizer(\"Adam\", Adam, function, start, lr=0.01, beta1=0.9, beta2=0.999),\n",
    "]\n",
    "\n",
    "plot(function, np.linspace(*x_range), np.linspace(*y_range), optimizers, frames=frames, levels=levels, steps_per_frame=steps_per_frame)"
   ]
  },
  {
   "cell_type": "code",
   "execution_count": null,
   "metadata": {},
   "outputs": [],
   "source": [
    "function = himmelblau\n",
    "start = np.array((1.0, 1.0))\n",
    "x_range = (-5, 5, 50)\n",
    "y_range = (-5, 5, 50)\n",
    "frames = 60\n",
    "levels = 100\n",
    "steps_per_frame=10\n",
    "\n",
    "optimizers = [\n",
    "    Optimizer(\"SGD\", SGD, function, start, lr=0.01),\n",
    "    Optimizer(\"NesterovMomentum\", NesterovMomentum, function, start, lr=0.01, miu=0.4),\n",
    "    Optimizer(\"AdaGrad\", AdaGrad, function, start, lr=0.01),\n",
    "    Optimizer(\"RMSProp\", RMSProp, function, start, lr=0.01, beta=0.1),\n",
    "    Optimizer(\"Adam\", Adam, function, start, lr=0.01, beta1=0.9, beta2=0.999),\n",
    "]\n",
    "\n",
    "plot(function, np.linspace(*x_range), np.linspace(*y_range), optimizers, frames=frames, levels=levels, steps_per_frame=steps_per_frame)"
   ]
  },
  {
   "cell_type": "code",
   "execution_count": null,
   "metadata": {},
   "outputs": [],
   "source": []
  }
 ],
 "metadata": {
  "kernelspec": {
   "display_name": "Python 3",
   "language": "python",
   "name": "python3"
  },
  "language_info": {
   "codemirror_mode": {
    "name": "ipython",
    "version": 3
   },
   "file_extension": ".py",
   "mimetype": "text/x-python",
   "name": "python",
   "nbconvert_exporter": "python",
   "pygments_lexer": "ipython3",
   "version": "3.7.1"
  }
 },
 "nbformat": 4,
 "nbformat_minor": 2
}
