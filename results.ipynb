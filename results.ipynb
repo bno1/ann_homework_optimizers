{
 "cells": [
  {
   "cell_type": "code",
   "execution_count": 1,
   "metadata": {},
   "outputs": [],
   "source": [
    "%%capture\n",
    "%matplotlib notebook\n",
    "\n",
    "import numpy as np\n",
    "\n",
    "from optimizers import *\n",
    "from test_functions import *\n",
    "from graphing import *"
   ]
  },
  {
   "cell_type": "code",
   "execution_count": 2,
   "metadata": {
    "scrolled": false
   },
   "outputs": [
    {
     "ename": "SyntaxError",
     "evalue": "invalid syntax (<ipython-input-2-ab0bed26cbac>, line 9)",
     "output_type": "error",
     "traceback": [
      "\u001b[0;36m  File \u001b[0;32m\"<ipython-input-2-ab0bed26cbac>\"\u001b[0;36m, line \u001b[0;32m9\u001b[0m\n\u001b[0;31m    Optimizer(\"test1\", test_mode, sphere, np.array((4.0, 4.0))),\u001b[0m\n\u001b[0m            ^\u001b[0m\n\u001b[0;31mSyntaxError\u001b[0m\u001b[0;31m:\u001b[0m invalid syntax\n"
     ]
    }
   ],
   "source": [
    "def test_mode(opti):\n",
    "    return opti.state * 0.5\n",
    "\n",
    "optimizers = [\n",
    "    Optimizer(\"test\", test_mode, sphere, np.array((4.0, 4.0))),\n",
    "    Optimizer(\"NesterovMomentum\", NesterovMomentum, sphere, np.array((4.0, 4.0))),\n",
    "    Optimizer(\"RMSProp\", RMSProp, sphere, np.array((4.0, 4.0))),\n",
    "    Optimizer(\"Adam\", Adam, sphere, np.array((4.0, 4.0))),\n",
    "    Optimizer(\"test1\", test_mode, sphere, np.array((4.0, 4.0))),\n",
    "    Optimizer(\"test2\", test_mode, sphere, np.array((-4.0, 4.0))),\n",
    "    Optimizer(\"test3\", test_mode, sphere, np.array((4.0, -4.0))),\n",
    "    Optimizer(\"test4\", test_mode, sphere, np.array((-4.0, -4.0))),\n",
    "]\n",
    "\n",
    "plot(sphere, np.linspace(-5, 5, 20), np.linspace(-5, 5, 20), optimizers)"
   ]
  },
  {
   "cell_type": "code",
   "execution_count": null,
   "metadata": {},
   "outputs": [],
   "source": []
  },
  {
   "cell_type": "code",
   "execution_count": null,
   "metadata": {},
   "outputs": [],
   "source": []
  }
 ],
 "metadata": {
  "kernelspec": {
   "display_name": "Python 3",
   "language": "python",
   "name": "python3"
  },
  "language_info": {
   "codemirror_mode": {
    "name": "ipython",
    "version": 3
   },
   "file_extension": ".py",
   "mimetype": "text/x-python",
   "name": "python",
   "nbconvert_exporter": "python",
   "pygments_lexer": "ipython3",
   "version": "3.6.5"
  }
 },
 "nbformat": 4,
 "nbformat_minor": 2
}
